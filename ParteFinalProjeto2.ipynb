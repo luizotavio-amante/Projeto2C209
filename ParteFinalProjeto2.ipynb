{
  "nbformat": 4,
  "nbformat_minor": 0,
  "metadata": {
    "colab": {
      "provenance": []
    },
    "kernelspec": {
      "name": "python3",
      "display_name": "Python 3"
    },
    "language_info": {
      "name": "python"
    }
  },
  "cells": [
    {
      "cell_type": "code",
      "source": [
        "from moviepy.editor import VideoFileClip, concatenate_videoclips\n",
        "import os\n",
        "\n",
        "# Caminhos de entrada e saída\n",
        "original_video_path = '/content/sample_data/OCVideo.753222663.257482.mp4'\n",
        "intermediate_video_path = '/content/video_invertido.mp4'\n",
        "final_output_video_path = '/content/sample_data/video_final.mp4'\n",
        "\n",
        "\n",
        "output_directory = os.path.dirname(intermediate_video_path)\n",
        "if not os.path.exists(output_directory):\n",
        "    os.makedirs(output_directory)\n",
        "\n",
        "output_directory_final = os.path.dirname(final_output_video_path)\n",
        "if not os.path.exists(output_directory_final):\n",
        "    os.makedirs(output_directory_final)\n",
        "\n",
        "import cv2\n",
        "\n",
        "cap = cv2.VideoCapture(original_video_path)\n",
        "\n",
        "# Verifique se o vídeo original foi carregado corretamente\n",
        "if not cap.isOpened():\n",
        "    raise IOError(f\"Erro ao abrir o arquivo {original_video_path}\")\n",
        "\n",
        "fps = cap.get(cv2.CAP_PROP_FPS)  # Frames por segundo\n",
        "frame_width = int(cap.get(cv2.CAP_PROP_FRAME_WIDTH))\n",
        "frame_height = int(cap.get(cv2.CAP_PROP_FRAME_HEIGHT))\n",
        "\n",
        "# Configuração do arquivo de saída\n",
        "fourcc = cv2.VideoWriter_fourcc(*'mp4v')\n",
        "out = cv2.VideoWriter(intermediate_video_path, fourcc, fps, (frame_width, frame_height))\n",
        "\n",
        "frame_interval = int(fps * 20)  # Inverte a cada 20 segundos\n",
        "current_time = 0\n",
        "invert = False\n",
        "\n",
        "while cap.isOpened():\n",
        "    ret, frame = cap.read()\n",
        "    if not ret:\n",
        "        break\n",
        "\n",
        "    if current_time % frame_interval == 0:\n",
        "        invert = not invert\n",
        "\n",
        "    if invert:\n",
        "        frame = cv2.flip(frame, 1)\n",
        "\n",
        "    # Escrever o frame processado no vídeo de saída\n",
        "    out.write(frame)\n",
        "\n",
        "    current_time += 1\n",
        "\n",
        "cap.release()\n",
        "out.release()\n",
        "\n",
        "print(f\"Vídeo processado salvo como {intermediate_video_path}\")\n",
        "\n",
        "try:\n",
        "    # Tente carregar o vídeo processado\n",
        "    video = VideoFileClip(intermediate_video_path, fps_source='fps')\n",
        "\n",
        "    # Corte do vídeo após 60 segundos (primeiro minuto)\n",
        "    clip_60s = video.subclip(0, 60)\n",
        "\n",
        "    # Corte do vídeo de 60s a 80s\n",
        "    clip_60_80s = video.subclip(60, 80)\n",
        "\n",
        "    # Parte dos 20s cortados (de 80s até o final)\n",
        "    clip_80s_final = video.subclip(80, 100)\n",
        "\n",
        "    # Combine os clipes: o primeiro (0-60s), o segundo (60-80s) e por fim o último (80-100s)\n",
        "    final_clip = concatenate_videoclips([clip_60s, clip_60_80s, clip_80s_final])\n",
        "\n",
        "    # Exporta o vídeo final\n",
        "    final_clip.write_videofile(final_output_video_path, codec='libx264', audio_codec='aac')\n",
        "\n",
        "    print(f\"Vídeo final salvo como {final_output_video_path}\")\n",
        "except Exception as e:\n",
        "    print(f\"Erro ao processar o vídeo: {e}\")"
      ],
      "metadata": {
        "colab": {
          "base_uri": "https://localhost:8080/"
        },
        "id": "nL4ONCUJoXqB",
        "outputId": "7d62082a-edc6-41ab-c045-d85d14fb8bb6"
      },
      "execution_count": 11,
      "outputs": [
        {
          "output_type": "stream",
          "name": "stdout",
          "text": [
            "Vídeo processado salvo como /content/video_invertido.mp4\n",
            "Moviepy - Building video /content/sample_data/video_final.mp4.\n",
            "Moviepy - Writing video /content/sample_data/video_final.mp4\n",
            "\n"
          ]
        },
        {
          "output_type": "stream",
          "name": "stderr",
          "text": []
        },
        {
          "output_type": "stream",
          "name": "stdout",
          "text": [
            "Moviepy - Done !\n",
            "Moviepy - video ready /content/sample_data/video_final.mp4\n",
            "Vídeo final salvo como /content/sample_data/video_final.mp4\n"
          ]
        }
      ]
    }
  ]
}